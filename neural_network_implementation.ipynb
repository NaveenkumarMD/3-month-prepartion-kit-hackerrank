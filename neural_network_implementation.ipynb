{
  "nbformat": 4,
  "nbformat_minor": 0,
  "metadata": {
    "colab": {
      "name": "neural network implementation.ipynb",
      "provenance": [],
      "toc_visible": true,
      "mount_file_id": "1Et1EB8Y7SRHjHfkmCbhySfpXWYbKQdtI",
      "authorship_tag": "ABX9TyOzuMcWh6pA9sNuHcjT548v",
      "include_colab_link": true
    },
    "kernelspec": {
      "name": "python3",
      "display_name": "Python 3"
    },
    "language_info": {
      "name": "python"
    }
  },
  "cells": [
    {
      "cell_type": "markdown",
      "metadata": {
        "id": "view-in-github",
        "colab_type": "text"
      },
      "source": [
        "<a href=\"https://colab.research.google.com/github/NaveenkumarMD/3-month-prepartion-kit-hackerrank/blob/master/neural_network_implementation.ipynb\" target=\"_parent\"><img src=\"https://colab.research.google.com/assets/colab-badge.svg\" alt=\"Open In Colab\"/></a>"
      ]
    },
    {
      "cell_type": "code",
      "metadata": {
        "id": "pV2GcB9N8lur"
      },
      "source": [
        "import pandas as pd\n",
        "import numpy as np\n",
        "\n",
        "from sklearn.model_selection import train_test_split\n",
        "from matplotlib import pyplot as plt\n",
        "from keras.layers import Dense"
      ],
      "execution_count": null,
      "outputs": []
    },
    {
      "cell_type": "code",
      "metadata": {
        "colab": {
          "base_uri": "https://localhost:8080/",
          "height": 203
        },
        "id": "hykVqAwL9w7j",
        "outputId": "84bf5af9-e2ba-4940-bd6d-20650e5ae345"
      },
      "source": [
        "data=pd.read_csv('./drive/MyDrive/Datasets/diabetes.csv')\n",
        "data.head()\n",
        "\n"
      ],
      "execution_count": null,
      "outputs": [
        {
          "output_type": "execute_result",
          "data": {
            "text/html": [
              "<div>\n",
              "<style scoped>\n",
              "    .dataframe tbody tr th:only-of-type {\n",
              "        vertical-align: middle;\n",
              "    }\n",
              "\n",
              "    .dataframe tbody tr th {\n",
              "        vertical-align: top;\n",
              "    }\n",
              "\n",
              "    .dataframe thead th {\n",
              "        text-align: right;\n",
              "    }\n",
              "</style>\n",
              "<table border=\"1\" class=\"dataframe\">\n",
              "  <thead>\n",
              "    <tr style=\"text-align: right;\">\n",
              "      <th></th>\n",
              "      <th>Pregnancies</th>\n",
              "      <th>Glucose</th>\n",
              "      <th>BloodPressure</th>\n",
              "      <th>SkinThickness</th>\n",
              "      <th>Insulin</th>\n",
              "      <th>BMI</th>\n",
              "      <th>DiabetesPedigreeFunction</th>\n",
              "      <th>Age</th>\n",
              "      <th>Outcome</th>\n",
              "    </tr>\n",
              "  </thead>\n",
              "  <tbody>\n",
              "    <tr>\n",
              "      <th>0</th>\n",
              "      <td>6</td>\n",
              "      <td>148</td>\n",
              "      <td>72</td>\n",
              "      <td>35</td>\n",
              "      <td>0</td>\n",
              "      <td>33.6</td>\n",
              "      <td>0.627</td>\n",
              "      <td>50</td>\n",
              "      <td>1</td>\n",
              "    </tr>\n",
              "    <tr>\n",
              "      <th>1</th>\n",
              "      <td>1</td>\n",
              "      <td>85</td>\n",
              "      <td>66</td>\n",
              "      <td>29</td>\n",
              "      <td>0</td>\n",
              "      <td>26.6</td>\n",
              "      <td>0.351</td>\n",
              "      <td>31</td>\n",
              "      <td>0</td>\n",
              "    </tr>\n",
              "    <tr>\n",
              "      <th>2</th>\n",
              "      <td>8</td>\n",
              "      <td>183</td>\n",
              "      <td>64</td>\n",
              "      <td>0</td>\n",
              "      <td>0</td>\n",
              "      <td>23.3</td>\n",
              "      <td>0.672</td>\n",
              "      <td>32</td>\n",
              "      <td>1</td>\n",
              "    </tr>\n",
              "    <tr>\n",
              "      <th>3</th>\n",
              "      <td>1</td>\n",
              "      <td>89</td>\n",
              "      <td>66</td>\n",
              "      <td>23</td>\n",
              "      <td>94</td>\n",
              "      <td>28.1</td>\n",
              "      <td>0.167</td>\n",
              "      <td>21</td>\n",
              "      <td>0</td>\n",
              "    </tr>\n",
              "    <tr>\n",
              "      <th>4</th>\n",
              "      <td>0</td>\n",
              "      <td>137</td>\n",
              "      <td>40</td>\n",
              "      <td>35</td>\n",
              "      <td>168</td>\n",
              "      <td>43.1</td>\n",
              "      <td>2.288</td>\n",
              "      <td>33</td>\n",
              "      <td>1</td>\n",
              "    </tr>\n",
              "  </tbody>\n",
              "</table>\n",
              "</div>"
            ],
            "text/plain": [
              "   Pregnancies  Glucose  BloodPressure  ...  DiabetesPedigreeFunction  Age  Outcome\n",
              "0            6      148             72  ...                     0.627   50        1\n",
              "1            1       85             66  ...                     0.351   31        0\n",
              "2            8      183             64  ...                     0.672   32        1\n",
              "3            1       89             66  ...                     0.167   21        0\n",
              "4            0      137             40  ...                     2.288   33        1\n",
              "\n",
              "[5 rows x 9 columns]"
            ]
          },
          "metadata": {},
          "execution_count": 4
        }
      ]
    },
    {
      "cell_type": "code",
      "metadata": {
        "colab": {
          "base_uri": "https://localhost:8080/",
          "height": 279
        },
        "id": "bQ3IjKQw-R1r",
        "outputId": "34cbc705-9cda-4361-c255-a50f23510bb3"
      },
      "source": [
        "#Outcome distribution\n",
        "import seaborn as sns\n",
        "data['Outcome'].value_counts().plot(kind=\"bar\",color=\"orange\")\n"
      ],
      "execution_count": null,
      "outputs": [
        {
          "output_type": "execute_result",
          "data": {
            "text/plain": [
              "<matplotlib.axes._subplots.AxesSubplot at 0x7f8722546a10>"
            ]
          },
          "metadata": {},
          "execution_count": 12
        },
        {
          "output_type": "display_data",
          "data": {
            "image/png": "[encoded data removed]",
            "text/plain": [
              "<Figure size 432x288 with 1 Axes>"
            ]
          },
          "metadata": {
            "needs_background": "light"
          }
        }
      ]
    },
    {
      "cell_type": "code",
      "metadata": {
        "id": "qUbYIKYK_xCT"
      },
      "source": [
        "#Splitting the data\n",
        "predictors=data.iloc[:,0:8]\n",
        "response=data.iloc[:,8]"
      ],
      "execution_count": null,
      "outputs": []
    },
    {
      "cell_type": "code",
      "metadata": {
        "colab": {
          "base_uri": "https://localhost:8080/"
        },
        "id": "9Q6BRWT7AGE9",
        "outputId": "a05bd210-36ed-4970-b55a-ece1cd1cda18"
      },
      "source": [
        "#Create training and testing data\n",
        "x_train,x_test,y_train,y_test=train_test_split(predictors,response,test_size=0.2)\n",
        "print(x_train.shape,x_test.shape)\n",
        "print(y_train.shape,y_test.shape)"
      ],
      "execution_count": null,
      "outputs": [
        {
          "output_type": "stream",
          "name": "stdout",
          "text": [
            "(614, 8) (154, 8)\n",
            "(614,) (154,)\n"
          ]
        }
      ]
    },
    {
      "cell_type": "code",
      "metadata": {
        "id": "mXkZHGbQAqxi"
      },
      "source": [
        "#model definition\n",
        "from keras.models import Sequential\n",
        "kerasmodel=Sequential()\n",
        "kerasmodel.add(Dense(12,input_dim=8,activation='relu'))\n",
        "kerasmodel.add(Dense(8,activation='relu'))\n",
        "kerasmodel.add(Dense(1,activation='sigmoid'))\n",
        "\n",
        "#compiling\n",
        "kerasmodel.compile(loss='binary_crossentropy',optimizer='adam',metrics=['accuracy'])"
      ],
      "execution_count": null,
      "outputs": []
    },
    {
      "cell_type": "code",
      "metadata": {
        "id": "ZcIhYUS4Cc8v"
      },
      "source": [
        "#fitting model\n",
        "kerasmodel.fit(x_train,y_train,epochs=150,batch_size=10)"
      ],
      "execution_count": null,
      "outputs": []
    },
    {
      "cell_type": "code",
      "metadata": {
        "colab": {
          "base_uri": "https://localhost:8080/"
        },
        "id": "qeqv11JNC7IT",
        "outputId": "00097d86-2819-4e1c-c28f-7ed267d0b678"
      },
      "source": [
        "#train accuracy\n",
        "_,accuracy=kerasmodel.evaluate(x_train,y_train)\n",
        "print(\"Train accuracy is :%.2f\"%(accuracy*100))\n",
        "\n",
        "#test accuracy\n",
        "from sklearn.metrics import accuracy_score\n",
        "y_pred = kerasmodel.predict(x_test)\n",
        "print(y_pred)\n",
        "\n"
      ],
      "execution_count": null,
      "outputs": [
        {
          "output_type": "stream",
          "name": "stdout",
          "text": [
            "20/20 [==============================] - 0s 1ms/step - loss: 1.5108 - accuracy: 0.6124\n",
            "Train accuracy is :61.24\n",
            "[[9.9990463e-01]\n",
            " [5.0000000e-01]\n",
            " [5.0000000e-01]\n",
            " [9.9686563e-01]\n",
            " [9.9888706e-01]\n",
            " [5.0000000e-01]\n",
            " [5.0000000e-01]\n",
            " [5.0000000e-01]\n",
            " [5.0000000e-01]\n",
            " [5.6468874e-02]\n",
            " [5.0000000e-01]\n",
            " [6.7129689e-01]\n",
            " [5.0000000e-01]\n",
            " [5.0000000e-01]\n",
            " [9.9930835e-01]\n",
            " [5.0000000e-01]\n",
            " [5.0000000e-01]\n",
            " [5.0000000e-01]\n",
            " [5.0000000e-01]\n",
            " [1.7980686e-01]\n",
            " [5.0000000e-01]\n",
            " [5.0000000e-01]\n",
            " [5.0000000e-01]\n",
            " [8.5990131e-02]\n",
            " [5.0000000e-01]\n",
            " [9.4062722e-01]\n",
            " [5.0000000e-01]\n",
            " [5.0000000e-01]\n",
            " [3.4267625e-01]\n",
            " [5.0000000e-01]\n",
            " [5.0000000e-01]\n",
            " [4.9391389e-04]\n",
            " [9.4871420e-01]\n",
            " [1.5213689e-01]\n",
            " [5.0000000e-01]\n",
            " [5.0000000e-01]\n",
            " [5.0000000e-01]\n",
            " [5.0000000e-01]\n",
            " [5.0000000e-01]\n",
            " [4.3033612e-01]\n",
            " [5.0000000e-01]\n",
            " [5.0000000e-01]\n",
            " [5.0000000e-01]\n",
            " [9.8670733e-01]\n",
            " [5.0000000e-01]\n",
            " [5.0000000e-01]\n",
            " [5.0000000e-01]\n",
            " [5.0000000e-01]\n",
            " [1.5304020e-01]\n",
            " [5.0000000e-01]\n",
            " [9.9999774e-01]\n",
            " [5.0000000e-01]\n",
            " [5.0000000e-01]\n",
            " [5.0000000e-01]\n",
            " [5.0000000e-01]\n",
            " [9.9964690e-01]\n",
            " [5.0000000e-01]\n",
            " [9.9993438e-01]\n",
            " [5.0000000e-01]\n",
            " [4.6063688e-01]\n",
            " [5.0000000e-01]\n",
            " [5.8923542e-02]\n",
            " [5.0000000e-01]\n",
            " [5.0000000e-01]\n",
            " [5.0000000e-01]\n",
            " [5.4004776e-01]\n",
            " [1.7328885e-01]\n",
            " [1.8306920e-01]\n",
            " [5.0000000e-01]\n",
            " [5.0000000e-01]\n",
            " [7.9244906e-01]\n",
            " [3.0840999e-01]\n",
            " [3.2440954e-01]\n",
            " [5.0000000e-01]\n",
            " [1.8626451e-04]\n",
            " [5.0000000e-01]\n",
            " [5.0000000e-01]\n",
            " [5.0000000e-01]\n",
            " [5.0000000e-01]\n",
            " [9.1947317e-03]\n",
            " [9.6601081e-01]\n",
            " [9.9998951e-01]\n",
            " [5.0000000e-01]\n",
            " [3.7939250e-03]\n",
            " [2.7933866e-02]\n",
            " [5.0000000e-01]\n",
            " [2.6009053e-02]\n",
            " [5.0747753e-05]\n",
            " [9.9991560e-01]\n",
            " [5.0000000e-01]\n",
            " [3.5963953e-01]\n",
            " [5.0000000e-01]\n",
            " [5.0000000e-01]\n",
            " [5.0000000e-01]\n",
            " [9.9999869e-01]\n",
            " [3.5947764e-01]\n",
            " [1.8725616e-01]\n",
            " [5.0000000e-01]\n",
            " [8.5428429e-01]\n",
            " [5.0000000e-01]\n",
            " [5.0000000e-01]\n",
            " [5.0000000e-01]\n",
            " [5.0000000e-01]\n",
            " [9.4946241e-01]\n",
            " [5.0000000e-01]\n",
            " [9.9540067e-01]\n",
            " [5.0000000e-01]\n",
            " [9.9737871e-01]\n",
            " [5.0000000e-01]\n",
            " [9.9293959e-01]\n",
            " [3.0401065e-06]\n",
            " [5.0000000e-01]\n",
            " [5.0000000e-01]\n",
            " [5.0000000e-01]\n",
            " [5.0000000e-01]\n",
            " [5.0000000e-01]\n",
            " [4.1350475e-05]\n",
            " [3.0644843e-01]\n",
            " [9.9984580e-01]\n",
            " [9.8208833e-01]\n",
            " [5.0000000e-01]\n",
            " [5.0000000e-01]\n",
            " [5.0000000e-01]\n",
            " [5.0000000e-01]\n",
            " [5.0000000e-01]\n",
            " [5.0000000e-01]\n",
            " [9.1245174e-01]\n",
            " [6.8954617e-02]\n",
            " [5.0000000e-01]\n",
            " [1.0000000e+00]\n",
            " [5.0000000e-01]\n",
            " [4.0662509e-01]\n",
            " [9.7015154e-01]\n",
            " [5.0000000e-01]\n",
            " [9.8350900e-01]\n",
            " [5.0000000e-01]\n",
            " [5.0000000e-01]\n",
            " [5.0000000e-01]\n",
            " [5.0000000e-01]\n",
            " [5.0000000e-01]\n",
            " [5.0000000e-01]\n",
            " [8.5872412e-04]\n",
            " [8.6369240e-01]\n",
            " [5.0000000e-01]\n",
            " [5.0000000e-01]\n",
            " [7.5085866e-01]\n",
            " [5.0000000e-01]\n",
            " [5.0000000e-01]\n",
            " [5.0000000e-01]\n",
            " [9.9720865e-01]\n",
            " [5.0000000e-01]\n",
            " [1.0000000e+00]\n",
            " [2.4096364e-01]\n",
            " [5.0000000e-01]]\n"
          ]
        }
      ]
    }
  ]
}